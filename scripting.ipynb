{
 "cells": [
  {
   "cell_type": "code",
   "execution_count": null,
   "metadata": {},
   "outputs": [],
   "source": [
    "how_many_snakes = 1\n",
    "snake_string = \"\"\"\n",
    "Welcome to Python3!\n",
    "\n",
    "             ____\n",
    "            / . .\\\\\n",
    "            \\  ---<\n",
    "             \\  /\n",
    "   __________/ /\n",
    "-=:___________/\n",
    "\n",
    "<3, Juno\n",
    "\"\"\"\n",
    "\n",
    "\n",
    "print(snake_string * how_many_snakes)"
   ]
  },
  {
   "cell_type": "code",
   "execution_count": null,
   "metadata": {},
   "outputs": [],
   "source": [
    "name = input(\"Enter your name: \")\n",
    "print(\"Hello there, {}!\".format(name.title()))"
   ]
  },
  {
   "cell_type": "code",
   "execution_count": null,
   "metadata": {},
   "outputs": [],
   "source": [
    "num = int(input(\"Enter an integer\"))\n",
    "print(\"hello\" * num)"
   ]
  },
  {
   "cell_type": "code",
   "execution_count": null,
   "metadata": {},
   "outputs": [],
   "source": [
    "#66\n",
    "result = eval(input(\"Enter an expression: \"))\n",
    "print(result)"
   ]
  },
  {
   "cell_type": "code",
   "execution_count": null,
   "metadata": {},
   "outputs": [],
   "source": [
    "#67\n",
    "names =  input('names separated by commas:')# get and process input for a list of names\n",
    "assignments =  # get and process input for a list of the number of assignments\n",
    "grades =  # get and process input for a list of grades\n",
    "\n",
    "## message string to be used for each student\n",
    "## HINT: use .format() with this string in your for loop\n",
    "message = \"Hi {},\\n\\nThis is a reminder that you have {} assignments left to \\\n",
    "submit before you can graduate. Your current grade is {} and can increase \\\n",
    "to {} if you submit all assignments before the due date.\\n\\n\"\n",
    "\n",
    "## write a for loop that iterates through each set of names, assignments, and grades to print"
   ]
  },
  {
   "cell_type": "code",
   "execution_count": null,
   "metadata": {},
   "outputs": [],
   "source": [
    "names =  [input('name1:'),input('name2:')]\n",
    "print(names)"
   ]
  },
  {
   "cell_type": "code",
   "execution_count": 3,
   "metadata": {},
   "outputs": [
    {
     "name": "stdout",
     "output_type": "stream",
     "text": [
      "Hi Alma,\n",
      "\n",
      "This is a reminder that you have 1 assignments left to submit before you can graduate. You're current grade is 3 and can increase to 5 if you submit all assignments before the due date.\n",
      "\n",
      "\n",
      "Hi Mara,\n",
      "\n",
      "This is a reminder that you have 2 assignments left to submit before you can graduate. You're current grade is 4 and can increase to 8 if you submit all assignments before the due date.\n",
      "\n",
      "\n"
     ]
    }
   ],
   "source": [
    "#67\n",
    "names = input(\"Enter names separated by commas: \").title().split(\",\")#split creates a list of the input names, title upper case\n",
    "assignments = input(\"Enter assignment counts separated by commas: \").split(\",\")#split creates a list of the input\n",
    "grades = input(\"Enter grades separated by commas: \").split(\",\")#split creates a list of the input\n",
    "\n",
    "message = \"Hi {},\\n\\nThis is a reminder that you have {} assignments left to \\\n",
    "submit before you can graduate. You're current grade is {} and can increase \\\n",
    "to {} if you submit all assignments before the due date.\\n\\n\" #vorlage für die message\n",
    "\n",
    "for name, assignment, grade in zip(names, assignments, grades): #creates a list of tuples from the 3 lists above\n",
    "    print(message.format(name, assignment, grade, int(grade) + int(assignment)*2))#inserts the values from the tuples in the message\n"
   ]
  },
  {
   "cell_type": "code",
   "execution_count": 21,
   "metadata": {},
   "outputs": [
    {
     "name": "stdout",
     "output_type": "stream",
     "text": [
      "thats a number\n"
     ]
    }
   ],
   "source": [
    "#68\n",
    "try:\n",
    "    x=int(input('input1:'))\n",
    "except:\n",
    "    print('thats not a valid number')\n",
    "print('thats a number')"
   ]
  },
  {
   "cell_type": "code",
   "execution_count": 5,
   "metadata": {},
   "outputs": [
    {
     "name": "stdout",
     "output_type": "stream",
     "text": [
      "that's not a valid number\n",
      "\n",
      "Attempted Input\n",
      "\n",
      "that's not a valid number\n",
      "\n",
      "Attempted Input\n",
      "\n",
      "\n",
      "Attempted Input\n",
      "\n",
      "thats a number\n"
     ]
    }
   ],
   "source": [
    "#69\n",
    "while True:\n",
    "    try:\n",
    "        x=int(input('input1:'))  # Prompt user for input and convert it to an integer\n",
    "        break  # If input is successfully converted, exits the loop\n",
    "    except:  # If conversion fails (e.g., invalid input), execute the following block\n",
    "        print('that\\'s not a valid number')  # Print error message\n",
    "    finally:  # This block is always executed, whether an exception occurred or not\n",
    "        print('\\nAttempted Input\\n')  # Print message indicating attempted input\n",
    "print('thats a number')  # Print message indicating successful input\n"
   ]
  },
  {
   "cell_type": "markdown",
   "metadata": {},
   "source": [
    "Try Statement tryexplain\n",
    "\n",
    "We can use try statements to handle exceptions. There are four clauses you can use (one more in addition to those shown in the video).\n",
    "\n",
    "    try: This is the only mandatory clause in a try statement. The code in this block is the first thing that Python runs in a try statement.\n",
    "    except: If Python runs into an exception while running the try block, it will jump to the except block that handles that exception.\n",
    "    else: If Python runs into no exceptions while running the try block, it will run the code in this block after running the try block.\n",
    "    finally: Before Python leaves this try statement, it will run the code in this finally block under any conditions, even if it's ending the program. E.g., if Python ran into an error while running code in the except or else block, this finally block will still be executed before stopping the program."
   ]
  },
  {
   "cell_type": "markdown",
   "metadata": {},
   "source": [
    "Errors and Exceptions\n",
    "\n",
    "    Syntax errors occur when Python can’t interpret our code, since we didn’t follow the correct syntax for Python. These are errors you’re likely to get when you make a typo, or you’re first starting to learn Python.\n",
    "\n",
    "    Exceptions occur when unexpected things happen during execution of a program, even if the code is syntactically correct. There are different types of built-in exceptions in Python, and you can see which exception is thrown in the error message.\n",
    "\n",
    "SyntaxError : x='j typos etc\n",
    "ValueError : e.g. string instead int (exception error)\n",
    "NameError : e.g. when using a variable that is not defined"
   ]
  },
  {
   "cell_type": "code",
   "execution_count": 35,
   "metadata": {},
   "outputs": [
    {
     "name": "stdout",
     "output_type": "stream",
     "text": [
      "4\n"
     ]
    }
   ],
   "source": [
    "#70\n",
    "try:\n",
    "    a=int(input('input1:'))\n",
    "except ValueError:\n",
    "    print('this is not a valid number')\n",
    "print(a*2)"
   ]
  },
  {
   "cell_type": "code",
   "execution_count": null,
   "metadata": {},
   "outputs": [],
   "source": [
    "#70\n",
    "try:\n",
    "    # some code\n",
    "except (ValueError, KeyboardInterrupt):\n",
    "    # some code"
   ]
  },
  {
   "cell_type": "code",
   "execution_count": 6,
   "metadata": {},
   "outputs": [
    {
     "ename": "IndentationError",
     "evalue": "expected an indented block after 'try' statement on line 2 (4185334195.py, line 4)",
     "output_type": "error",
     "traceback": [
      "\u001b[1;36m  Cell \u001b[1;32mIn[6], line 4\u001b[1;36m\u001b[0m\n\u001b[1;33m    except ValueError:\u001b[0m\n\u001b[1;37m    ^\u001b[0m\n\u001b[1;31mIndentationError\u001b[0m\u001b[1;31m:\u001b[0m expected an indented block after 'try' statement on line 2\n"
     ]
    }
   ],
   "source": [
    "#70\n",
    "try:\n",
    "    # some code\n",
    "except ValueError:\n",
    "    # some code\n",
    "except KeyboardInterrupt:\n",
    "    # some code"
   ]
  },
  {
   "cell_type": "code",
   "execution_count": 8,
   "metadata": {},
   "outputs": [
    {
     "name": "stdout",
     "output_type": "stream",
     "text": [
      "\n",
      "Lass uns feiern! Es nehmen 2 Personen teil, sie bekommen jeweils 1 Kekse und es bleiben 1 übrig.\n"
     ]
    }
   ],
   "source": [
    "#71\n",
    "def party_planner(cookies, people):\n",
    "    leftovers = None\n",
    "    num_each = None\n",
    "    #Die Funktion party_planner(cookies, people) wird definiert. \n",
    "    #Sie erhält zwei Parameter: cookies (die Gesamtanzahl der Kekse) und people \n",
    "    #(die Anzahl der Personen, die an der Party teilnehmen).\n",
    "    #Zwei Variablen leftovers und num_each werden initialisiert. \n",
    "    #Diese Variablen werden verwendet, um die Anzahl der übrig gebliebenen Kekse und \n",
    "    #die Anzahl der Kekse pro Person zu speichern.\n",
    "    # #TODO: Add a try-except block here to\n",
    "    #       make sure no ZeroDivisionError occurs.it should not be able to enter 0 people\n",
    "    try:\n",
    "        num_each = cookies // people\n",
    "        leftovers = cookies % people\n",
    "    except ZeroDivisionError:\n",
    "        print('number of people should be greater than zero')\n",
    "    return(num_each, leftovers)#belongs to the def return make the variables available outside the function below\n",
    "#Innerhalb des try-except-Blocks wird versucht, die Anzahl der Kekse pro Person und \n",
    "#die übrigen Kekse zu berechnen. Wenn die Anzahl der Personen gleich Null ist, \n",
    "#wird eine ZeroDivisionError ausgelöst, \n",
    "#und eine entsprechende Fehlermeldung wird ausgegeben.\n",
    "#Die berechneten Werte num_each (Anzahl der Kekse pro Person) \n",
    "#und leftovers (übrig gebliebene Kekse) werden zurückgegeben\n",
    "#( The main code block is below; do not edit this)\n",
    "#Im Hauptcodeblock wird eine Schleife gestartet, die den Benutzer nach der Anzahl der gebackenen Kekse und der Anzahl der teilnehmenden Personen fragt.\n",
    "#Die Funktion party_planner(cookies, people) wird aufgerufen, um die Anzahl der Kekse pro Person und die übrigen Kekse zu berechnen.\n",
    "#Wenn die Berechnung erfolgreich war (d. h. cookies_each nicht Null ist), wird eine Nachricht gedruckt, die die Anzahl der Personen, die Anzahl der Kekse pro Person und die übrigen Kekse angibt.\n",
    "#Der Benutzer wird gefragt, ob er weiterfeiern möchte (y für ja, n für nein). Die Schleife läuft, bis der Benutzer n eingibt.\n",
    "lets_party = 'y'\n",
    "while lets_party == 'y':\n",
    "    # Frage nach der Anzahl der gebackenen Kekse\n",
    "    cookies = int(input(\"Wie viele Kekse backst du? \"))\n",
    "    # Frage nach der Anzahl der teilnehmenden Personen\n",
    "    people = int(input(\"Wie viele Personen nehmen teil? \"))\n",
    "    # Rufe die Funktion party_planner auf, um die Berechnungen durchzuführen\n",
    "    cookies_each, leftovers = party_planner(cookies, people)\n",
    "    \n",
    "    # Drucke eine Nachricht, wenn die Berechnung erfolgreich war\n",
    "    if cookies_each:  # Überprüfe, ob cookies_each nicht None ist\n",
    "        message = \"\\nLass uns feiern! Es nehmen {} Personen teil, sie bekommen jeweils {} Kekse und es bleiben {} übrig.\"\n",
    "        print(message.format(people, cookies_each, leftovers))\n",
    "    \n",
    "    # Frage den Benutzer, ob er weiterfeiern möchte\n",
    "    lets_party = input(\"\\nMöchtest du weiterfeiern? (y oder n) \")"
   ]
  },
  {
   "cell_type": "code",
   "execution_count": 57,
   "metadata": {},
   "outputs": [
    {
     "ename": "IndentationError",
     "evalue": "expected an indented block after 'try' statement on line 1 (2269960409.py, line 3)",
     "output_type": "error",
     "traceback": [
      "\u001b[1;36m  Cell \u001b[1;32mIn[57], line 3\u001b[1;36m\u001b[0m\n\u001b[1;33m    except ZeroDivisionError as e:\u001b[0m\n\u001b[1;37m    ^\u001b[0m\n\u001b[1;31mIndentationError\u001b[0m\u001b[1;31m:\u001b[0m expected an indented block after 'try' statement on line 1\n"
     ]
    }
   ],
   "source": [
    "#73a\n",
    "try:\n",
    "    # some code\n",
    "except ZeroDivisionError as e: #e speichert den Fehler in der variable e damit kann man z.bsp dem uaser sagen, was die fehlerhafte eingabe war\n",
    "   # some code\n",
    "   print(\"ZeroDivisionError occurred: {}\".format(e))\n",
    "\n",
    "#73\n",
    "try:\n",
    "    # some code\n",
    "except Exception as e:\n",
    "   # some code\n",
    "   print(\"Exception occurred: {}\".format(e))"
   ]
  },
  {
   "cell_type": "markdown",
   "metadata": {},
   "source": [
    "Python exceptions\n",
    "https://docs.python.org/3/library/exceptions.html#bltin-exceptions"
   ]
  }
 ],
 "metadata": {
  "kernelspec": {
   "display_name": "Python 3",
   "language": "python",
   "name": "python3"
  },
  "language_info": {
   "codemirror_mode": {
    "name": "ipython",
    "version": 3
   },
   "file_extension": ".py",
   "mimetype": "text/x-python",
   "name": "python",
   "nbconvert_exporter": "python",
   "pygments_lexer": "ipython3",
   "version": "3.11.1"
  }
 },
 "nbformat": 4,
 "nbformat_minor": 2
}
