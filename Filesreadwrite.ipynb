{
 "cells": [
  {
   "cell_type": "code",
   "execution_count": 9,
   "metadata": {},
   "outputs": [],
   "source": [
    "#72 file wird kreiert, wenn es nicht existiert, oder inhalt wir überschrieben, wenn das File existiert\n",
    "f = open('c:/users/makn/documents/ai_uda/my_file.txt', 'w')\n",
    "f.write(\"Hallo \")\n",
    "f.close()"
   ]
  },
  {
   "cell_type": "code",
   "execution_count": 11,
   "metadata": {},
   "outputs": [],
   "source": [
    "#72 text wird angefügt, wenn file existiert wenn das File existiert, kreiert mit write text, wenn es nicht existiert\n",
    "f = open('c:/users/makn/documents/ai_uda/my_file.txt', 'a')\n",
    "f.write(\"Sabine\")\n",
    "f.close()"
   ]
  },
  {
   "cell_type": "code",
   "execution_count": 2,
   "metadata": {},
   "outputs": [
    {
     "name": "stdout",
     "output_type": "stream",
     "text": [
      "Hello there!\n"
     ]
    }
   ],
   "source": [
    "f = open('c:/users/makn/documents/ai_uda/my_file.txt', 'r')\n",
    "file_data = f.read()\n",
    "print(file_data)\n",
    "f.close()"
   ]
  },
  {
   "cell_type": "code",
   "execution_count": null,
   "metadata": {},
   "outputs": [],
   "source": [
    "#73\n",
    "files = []\n",
    "try:\n",
    "    for i in range(10000):\n",
    "        file = open('c:/users/makn/documents/ai_uda/my_file.txt', 'r')\n",
    "        files.append(file)\n",
    "        print(i)\n",
    "finally:\n",
    "    # Ensure all files are closed even if an exception occurs\n",
    "    for file in files:\n",
    "        file.close()\n"
   ]
  },
  {
   "cell_type": "code",
   "execution_count": null,
   "metadata": {},
   "outputs": [],
   "source": [
    "#74\n",
    "import os\n",
    "\n",
    "path = r'c:\\users\\makn\\documents\\ai_uda'\n",
    "\n",
    "if os.path.exists(path):\n",
    "    print(\"The path exists.\")\n",
    "else:\n",
    "    print(\"The path does not exist.\")\n"
   ]
  },
  {
   "cell_type": "code",
   "execution_count": null,
   "metadata": {},
   "outputs": [],
   "source": [
    "#75 open a file work with it and automatically close it afterwwards\n",
    "with open('c:/users/makn/documents/ai_uda/my_file.txt', 'r') as f:\n",
    "    file_data = f.read()"
   ]
  },
  {
   "cell_type": "code",
   "execution_count": null,
   "metadata": {},
   "outputs": [],
   "source": [
    "#76 find type of error\n",
    "try:\n",
    "    with open('c:/users/makn/documents/ai_uda/my_file.txt', 'r') as f:\n",
    "        file_data = f.read()\n",
    "except FileNotFoundError:\n",
    "    print(\"File not found.\")\n",
    "except PermissionError:\n",
    "    print(\"Permission denied to open the file.\")\n",
    "except Exception as e:\n",
    "    print(\"An error occurred:\", e)\n"
   ]
  },
  {
   "cell_type": "markdown",
   "metadata": {},
   "source": [
    "Each time we called read on the file with an integer argument, it read up to that number of characters, outputted them, and kept the 'window' at that position for the next call to read. This makes moving around in the open file a little tricky, as there aren't many landmarks to navigate by."
   ]
  },
  {
   "cell_type": "code",
   "execution_count": 16,
   "metadata": {},
   "outputs": [],
   "source": [
    "#76a create txt file with lines\n",
    "f = open('c:/users/makn/documents/ai_uda/camelot3.txt', 'w')\n",
    "f.write(\"We're the knights of the round table \\n We dance whenever we're able\\n and thats all\")\n",
    "f.close()"
   ]
  },
  {
   "cell_type": "code",
   "execution_count": 13,
   "metadata": {},
   "outputs": [
    {
     "name": "stdout",
     "output_type": "stream",
     "text": [
      "We\n",
      "'re the \n",
      "knights of the round table\n",
      "We dance whenever we're able\n"
     ]
    }
   ],
   "source": [
    "with open(\"c:/users/makn/documents/ai_uda/camelot.txt\") as song:\n",
    "    print(song.read(2))# upto the second character\n",
    "    print(song.read(8))# goes to the next 8 cgaracters\n",
    "    print(song.read())# and than to the next"
   ]
  },
  {
   "cell_type": "code",
   "execution_count": 17,
   "metadata": {},
   "outputs": [
    {
     "name": "stdout",
     "output_type": "stream",
     "text": [
      "First line: We're the knights of the round table \n",
      "\n",
      "Second line:  We dance whenever we're able\n",
      "\n",
      "Third line:  and thats all\n"
     ]
    }
   ],
   "source": [
    "with open('c:/users/makn/documents/ai_uda/camelot3.txt', 'r') as f:\n",
    "    # Read the first line from the file\n",
    "    line1 = f.readline()\n",
    "    # Read the second line from the file\n",
    "    line2 = f.readline()\n",
    "    # Read the third line from the file\n",
    "    line3 = f.readline()\n",
    "\n",
    "print(\"First line:\", line1)\n",
    "print(\"Second line:\", line2)\n",
    "print(\"Third line:\", line3)"
   ]
  },
  {
   "cell_type": "markdown",
   "metadata": {},
   "source": [
    "Reading Line by Line\n",
    "\n",
    "\\ns in blocks of text are newline characters. The newline character marks the end of a line, and tells a program (such as a text editor) to go down to the next line. However, looking at the stream of characters in the file, \\n is just another character.\n",
    "\n",
    "Fortunately, Python knows that these are special characters and you can ask it to read one line at a time. Let's try it!"
   ]
  },
  {
   "cell_type": "code",
   "execution_count": null,
   "metadata": {},
   "outputs": [],
   "source": [
    "#77 read txt line by line and create list from lines\n",
    "camelot_lines = []  # Initialize an empty list to store lines from the file\n",
    "with open(\"camelot.txt\") as f:  # Open the file \"camelot.txt\" in read mode\n",
    "    for line in f:  # Iterate over each line in the file\n",
    "        camelot_lines.append(line.strip())  # Append each line (with leading/trailing whitespace removed) to the list\n",
    "\n",
    "print(camelot_lines)  # Print the list containing all lines from the file\n"
   ]
  },
  {
   "cell_type": "markdown",
   "metadata": {},
   "source": [
    "Quiz above: Flying Circus Cast List\n",
    "\n",
    "You're going to create a list of the actors who appeared in the television programme Monty Python's Flying Circus.\n",
    "\n",
    "Write a function called create_cast_list that takes a filename as input and returns a list of actors' names. It will be run on the file flying_circus_cast.txt (this information was collected from imdb.com). Each line of that file consists of an actor's name, a comma, and then some (messy) information about roles they played in the programme. You'll need to extract only the name and add it to a list. You might use the .split() method(opens in a new tab) to process each line."
   ]
  },
  {
   "cell_type": "code",
   "execution_count": null,
   "metadata": {},
   "outputs": [],
   "source": []
  },
  {
   "cell_type": "code",
   "execution_count": 18,
   "metadata": {},
   "outputs": [
    {
     "name": "stdout",
     "output_type": "stream",
     "text": [
      "['Graham Chapman', 'Eric Idle', 'Terry Jones', 'Michael Palin', 'Terry Gilliam', 'John Cleese', 'Carol Cleveland', 'Ian Davidson']\n"
     ]
    }
   ],
   "source": [
    "#78 open file print lines but only the first part until a comma, lines in the file\n",
    "def create_cast_list(filename):\n",
    "    cast_list = [] #creates a cast list\n",
    "    with open(\"c:/users/makn/documents/ai_uda/montypy_lines.txt\") as f:\n",
    "        for line in f:\n",
    "            name = line.split(\",\")[0] #geht durch jede zeile und gibt zurück was for dem ersten komma der zeile steht\n",
    "            cast_list.append(name)\n",
    "\n",
    "    return cast_list\n",
    "\n",
    "cast_list = create_cast_list('flying_circus_cast.txt')\n",
    "print(cast_list)"
   ]
  },
  {
   "cell_type": "code",
   "execution_count": 19,
   "metadata": {},
   "outputs": [
    {
     "name": "stdout",
     "output_type": "stream",
     "text": [
      "['Graham Chapman', 'Eric Idle', 'Terry Jones', 'Michael Palin', 'Terry Gilliam', 'John Cleese', 'Carol Cleveland', 'Ian Davidson', '']\n"
     ]
    }
   ],
   "source": [
    "#79 dasselbe wie 78 aber das file hat keine Zeilen(')' ist die ID wann ein neuer Datensatz beginnt\n",
    "def create_cast_list(montypy):\n",
    "    cast_list = []\n",
    "    with open('c:/users/makn/documents/ai_uda/montypy_nolines.txt') as f:\n",
    "        for line in f:\n",
    "            cast_list.extend(actor.split(',', 1)[0].strip() for actor in line.split(')'))\n",
    "    return cast_list\n",
    "\n",
    "cast_list = create_cast_list('montypy')\n",
    "print(cast_list)\n"
   ]
  },
  {
   "cell_type": "code",
   "execution_count": 20,
   "metadata": {},
   "outputs": [
    {
     "name": "stdout",
     "output_type": "stream",
     "text": [
      "Incorrect value. That's not an int!\n",
      "Incorrect value. That's not an int!\n",
      "user_list: [1, 2, 3, 5, 6, 4, 8, 10]\n",
      "The sum of the even numbers in user_list is: 30.\n"
     ]
    }
   ],
   "source": [
    "#79 \n",
    "user_list = [] #initiate empty list to hold user input and sum value of zero\n",
    "list_sum = 0\n",
    "\n",
    "# seek user input for ten numbers \n",
    "for i in range(10):\n",
    "    userInput = input(\"Enter any 2-digit number: \")\n",
    "    \n",
    "# check to see if number is even and if yes, add to list_sum\n",
    "# print incorrect value warning  when ValueError exception occurs\n",
    "    try:\n",
    "        number = int(userInput)#creates variable number\n",
    "        user_list.append(number)\n",
    "        if number % 2 == 0:#checks whether the number is even\n",
    "            list_sum += number # and adds it to the variable list_sum\n",
    "    except ValueError:\n",
    "        print(\"Incorrect value. That's not an int!\")\n",
    "\n",
    "print(\"user_list: {}\".format(user_list))\n",
    "print(\"The sum of the even numbers in user_list is: {}.\".format(list_sum))"
   ]
  },
  {
   "cell_type": "code",
   "execution_count": null,
   "metadata": {},
   "outputs": [],
   "source": [
    "#80\n",
    "user_list = []\n",
    "list_sum = 0\n",
    "count = 0  # Counter to track the number of valid inputs\n",
    "\n",
    "# Continue prompting user until exactly ten valid numbers are entered\n",
    "while count < 10:\n",
    "    userInput = input(\"Enter any 2-digit number (input {}/10): \".format(count + 1))\n",
    "\n",
    "    # Check if the input can be converted to an integer\n",
    "    try:\n",
    "        number = int(userInput)\n",
    "        user_list.append(number)\n",
    "        if number % 2 == 0:\n",
    "            list_sum += number\n",
    "        count += 1  # Increment the counter for valid inputs\n",
    "    except ValueError:\n",
    "        print(\"Incorrect value. That's not an int!\")\n",
    "\n",
    "print(\"user_list: {}\".format(user_list))\n",
    "print(\"The sum of the even numbers in user_list is: {}.\".format(list_sum))\n"
   ]
  }
 ],
 "metadata": {
  "kernelspec": {
   "display_name": "Python 3",
   "language": "python",
   "name": "python3"
  },
  "language_info": {
   "codemirror_mode": {
    "name": "ipython",
    "version": 3
   },
   "file_extension": ".py",
   "mimetype": "text/x-python",
   "name": "python",
   "nbconvert_exporter": "python",
   "pygments_lexer": "ipython3",
   "version": "3.11.1"
  }
 },
 "nbformat": 4,
 "nbformat_minor": 2
}
